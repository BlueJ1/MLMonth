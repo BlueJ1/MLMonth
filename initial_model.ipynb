{
 "cells": [
  {
   "cell_type": "code",
   "execution_count": 1,
   "outputs": [],
   "source": [
    "import pandas as pd\n",
    "import torch\n",
    "import torch.nn as nn\n",
    "import torch.nn.functional as F\n",
    "import torch.optim as optim\n",
    "from torch.utils.data import Dataset\n",
    "import numpy as np"
   ],
   "metadata": {
    "collapsed": false,
    "pycharm": {
     "name": "#%%\n"
    }
   }
  },
  {
   "cell_type": "code",
   "execution_count": 2,
   "outputs": [],
   "source": [
    "class FCGDataset(Dataset):\n",
    "    def __init__(self, file_dir):\n",
    "        data = pd.read_csv(file_dir)\n",
    "        used_columns = [\"areaSqm\", \"rentDetail\", \"propertyType\", \"furnish\", \"internet\", \"roommates\", \"shower\", \"toilet\", \"kitchen\", \"living\", \"pets\", \"smokingInside\", \"matchCapacity\", \"rent\"]\n",
    "        one_hot_columns = [\"rentDetail\", \"propertyType\", \"furnish\", \"internet\", \"roommates\", \"shower\", \"toilet\", \"kitchen\", \"living\", \"pets\", \"smokingInside\", \"matchCapacity\"]\n",
    "        data = data[used_columns]\n",
    "        ohe_df = pd.get_dummies(data[one_hot_columns], drop_first=True)\n",
    "        num_df = data.drop(one_hot_columns, axis=1)\n",
    "        data = pd.concat([ohe_df, num_df], axis=1)\n",
    "        feature_values = data.drop(\"rent\", axis=1).values.astype(\"float32\")\n",
    "        self.features = torch.from_numpy(feature_values)\n",
    "        self.target = torch.from_numpy(data[\"rent\"].values.astype(\"float32\"))\n",
    "\n",
    "    def __len__(self):\n",
    "        return len(self.target)\n",
    "\n",
    "    def __getitem__(self, idx):\n",
    "        return self.features[idx], self.target[idx]"
   ],
   "metadata": {
    "collapsed": false,
    "pycharm": {
     "name": "#%%\n"
    }
   }
  },
  {
   "cell_type": "code",
   "execution_count": 3,
   "outputs": [],
   "source": [
    "# neural network class\n",
    "class Net(nn.Module):\n",
    "    def __init__(self):\n",
    "        super(Net, self).__init__()\n",
    "\n",
    "        # First fully connected layer\n",
    "        # input features: areaSqm (1) + rentDetail (2) + propertyType (5) + furnish (4) + internet (3) + roommates (11) + shower (4) + toilet (4) + kitchen (4) + living (4) + pets (4) + smokingInside (4) + matchCapacity (8) (+ matchStatus (4)) = 58\n",
    "        self.fc1 = nn.Linear(41, 512)\n",
    "        self.fc2 = nn.Linear(512, 512)\n",
    "        self.dropout1 = nn.Dropout()\n",
    "        self.fc3 = nn.Linear(512, 32)\n",
    "        self.fc4 = nn.Linear(32, 1)\n",
    "\n",
    "    def forward(self, x):\n",
    "        x = self.fc1(x)\n",
    "        x = F.relu(x)\n",
    "\n",
    "        x = self.fc2(x)\n",
    "        x = F.relu(x)\n",
    "\n",
    "        x = self.dropout1(x)\n",
    "\n",
    "        x = self.fc3(x)\n",
    "        x = F.relu(x)\n",
    "\n",
    "        # x = self.dropout2(x)\n",
    "        x = self.fc4(x)\n",
    "\n",
    "        output = x\n",
    "        return output"
   ],
   "metadata": {
    "collapsed": false,
    "pycharm": {
     "name": "#%%\n"
    }
   }
  },
  {
   "cell_type": "code",
   "execution_count": 4,
   "outputs": [],
   "source": [
    "def train_loop(dataset, model, loss_fn, optimizer, batch_size):\n",
    "    size = len(dataset)\n",
    "    for batch in range(size // batch_size):\n",
    "        X, y = dataset[batch * batch_size : (batch + 1) * batch_size]\n",
    "        # Compute prediction and loss\n",
    "        pred = model(X)\n",
    "        loss = loss_fn(pred, y)\n",
    "\n",
    "        # Backpropagation\n",
    "        optimizer.zero_grad()\n",
    "        loss.backward()\n",
    "        optimizer.step()\n",
    "\n",
    "        if batch % 100 == 0:\n",
    "            loss, current = loss.item(), batch * len(X)\n",
    "            print(f\"loss: {loss:>7f}  [{current:>5d}/{size:>5d}]\")"
   ],
   "metadata": {
    "collapsed": false,
    "pycharm": {
     "name": "#%%\n"
    }
   }
  },
  {
   "cell_type": "code",
   "execution_count": 1,
   "outputs": [],
   "source": [
    "def test_loop(dataset, model, loss_fn, batch_size):\n",
    "    size = len(dataset)\n",
    "    num_batches = size // batch_size\n",
    "    test_loss, correct = 0, 0\n",
    "\n",
    "    with torch.no_grad():\n",
    "        X, y = dataset.features, dataset.target\n",
    "        pred = model(X)\n",
    "        test_loss += loss_fn(pred, y).item()\n",
    "        correct += (pred.argmax(1) == y).type(torch.float).sum().item()\n",
    "\n",
    "    test_loss /= num_batches\n",
    "    correct /= size\n",
    "    print(f\"Test Error: \\n Accuracy: {(100*correct):>0.1f}%, Avg loss: {test_loss:>8f} \\n\")"
   ],
   "metadata": {
    "collapsed": false,
    "pycharm": {
     "name": "#%%\n"
    }
   }
  },
  {
   "cell_type": "code",
   "execution_count": 5,
   "outputs": [],
   "source": [
    "learning_rate = 1e-3\n",
    "batch_size = 64\n",
    "epochs = 20"
   ],
   "metadata": {
    "collapsed": false,
    "pycharm": {
     "name": "#%%\n"
    }
   }
  },
  {
   "cell_type": "code",
   "execution_count": 6,
   "outputs": [],
   "source": [
    "loss_fn = torch.nn.MSELoss(reduction='sum')\n",
    "net = Net()\n",
    "optimizer = optim.SGD(net.parameters(), lr=learning_rate)\n",
    "train_data = FCGDataset(\"train.csv\")\n",
    "test"
   ],
   "metadata": {
    "collapsed": false,
    "pycharm": {
     "name": "#%%\n"
    }
   }
  },
  {
   "cell_type": "code",
   "execution_count": 7,
   "outputs": [
    {
     "name": "stdout",
     "output_type": "stream",
     "text": [
      "Epoch 1\n",
      "-------------------------------\n",
      "loss: 2300557312.000000  [    0/27915]\n"
     ]
    },
    {
     "name": "stderr",
     "output_type": "stream",
     "text": [
      "/Users/uni/opt/anaconda3/envs/tf_py310/lib/python3.10/site-packages/torch/nn/modules/loss.py:529: UserWarning: Using a target size (torch.Size([64])) that is different to the input size (torch.Size([64, 1])). This will likely lead to incorrect results due to broadcasting. Please ensure they have the same size.\n",
      "  return F.mse_loss(input, target, reduction=self.reduction)\n"
     ]
    },
    {
     "name": "stdout",
     "output_type": "stream",
     "text": [
      "loss:     nan  [ 6400/27915]\n",
      "loss:     nan  [12800/27915]\n",
      "loss:     nan  [19200/27915]\n",
      "loss:     nan  [25600/27915]\n",
      "Epoch 2\n",
      "-------------------------------\n",
      "loss:     nan  [    0/27915]\n",
      "loss:     nan  [ 6400/27915]\n",
      "loss:     nan  [12800/27915]\n",
      "loss:     nan  [19200/27915]\n",
      "loss:     nan  [25600/27915]\n",
      "Epoch 3\n",
      "-------------------------------\n",
      "loss:     nan  [    0/27915]\n",
      "loss:     nan  [ 6400/27915]\n",
      "loss:     nan  [12800/27915]\n",
      "loss:     nan  [19200/27915]\n",
      "loss:     nan  [25600/27915]\n",
      "Epoch 4\n",
      "-------------------------------\n",
      "loss:     nan  [    0/27915]\n",
      "loss:     nan  [ 6400/27915]\n",
      "loss:     nan  [12800/27915]\n",
      "loss:     nan  [19200/27915]\n",
      "loss:     nan  [25600/27915]\n",
      "Epoch 5\n",
      "-------------------------------\n",
      "loss:     nan  [    0/27915]\n",
      "loss:     nan  [ 6400/27915]\n",
      "loss:     nan  [12800/27915]\n",
      "loss:     nan  [19200/27915]\n",
      "loss:     nan  [25600/27915]\n",
      "Epoch 6\n",
      "-------------------------------\n",
      "loss:     nan  [    0/27915]\n",
      "loss:     nan  [ 6400/27915]\n",
      "loss:     nan  [12800/27915]\n",
      "loss:     nan  [19200/27915]\n",
      "loss:     nan  [25600/27915]\n",
      "Epoch 7\n",
      "-------------------------------\n",
      "loss:     nan  [    0/27915]\n",
      "loss:     nan  [ 6400/27915]\n",
      "loss:     nan  [12800/27915]\n",
      "loss:     nan  [19200/27915]\n",
      "loss:     nan  [25600/27915]\n",
      "Epoch 8\n",
      "-------------------------------\n",
      "loss:     nan  [    0/27915]\n",
      "loss:     nan  [ 6400/27915]\n",
      "loss:     nan  [12800/27915]\n",
      "loss:     nan  [19200/27915]\n",
      "loss:     nan  [25600/27915]\n",
      "Epoch 9\n",
      "-------------------------------\n",
      "loss:     nan  [    0/27915]\n",
      "loss:     nan  [ 6400/27915]\n",
      "loss:     nan  [12800/27915]\n",
      "loss:     nan  [19200/27915]\n",
      "loss:     nan  [25600/27915]\n",
      "Epoch 10\n",
      "-------------------------------\n",
      "loss:     nan  [    0/27915]\n",
      "loss:     nan  [ 6400/27915]\n",
      "loss:     nan  [12800/27915]\n",
      "loss:     nan  [19200/27915]\n",
      "loss:     nan  [25600/27915]\n",
      "Epoch 11\n",
      "-------------------------------\n",
      "loss:     nan  [    0/27915]\n",
      "loss:     nan  [ 6400/27915]\n",
      "loss:     nan  [12800/27915]\n",
      "loss:     nan  [19200/27915]\n",
      "loss:     nan  [25600/27915]\n",
      "Epoch 12\n",
      "-------------------------------\n",
      "loss:     nan  [    0/27915]\n",
      "loss:     nan  [ 6400/27915]\n",
      "loss:     nan  [12800/27915]\n",
      "loss:     nan  [19200/27915]\n",
      "loss:     nan  [25600/27915]\n",
      "Epoch 13\n",
      "-------------------------------\n",
      "loss:     nan  [    0/27915]\n",
      "loss:     nan  [ 6400/27915]\n",
      "loss:     nan  [12800/27915]\n",
      "loss:     nan  [19200/27915]\n",
      "loss:     nan  [25600/27915]\n",
      "Epoch 14\n",
      "-------------------------------\n",
      "loss:     nan  [    0/27915]\n",
      "loss:     nan  [ 6400/27915]\n",
      "loss:     nan  [12800/27915]\n",
      "loss:     nan  [19200/27915]\n",
      "loss:     nan  [25600/27915]\n",
      "Epoch 15\n",
      "-------------------------------\n",
      "loss:     nan  [    0/27915]\n",
      "loss:     nan  [ 6400/27915]\n",
      "loss:     nan  [12800/27915]\n",
      "loss:     nan  [19200/27915]\n",
      "loss:     nan  [25600/27915]\n",
      "Epoch 16\n",
      "-------------------------------\n",
      "loss:     nan  [    0/27915]\n",
      "loss:     nan  [ 6400/27915]\n",
      "loss:     nan  [12800/27915]\n",
      "loss:     nan  [19200/27915]\n",
      "loss:     nan  [25600/27915]\n",
      "Epoch 17\n",
      "-------------------------------\n",
      "loss:     nan  [    0/27915]\n",
      "loss:     nan  [ 6400/27915]\n",
      "loss:     nan  [12800/27915]\n",
      "loss:     nan  [19200/27915]\n",
      "loss:     nan  [25600/27915]\n",
      "Epoch 18\n",
      "-------------------------------\n",
      "loss:     nan  [    0/27915]\n",
      "loss:     nan  [ 6400/27915]\n",
      "loss:     nan  [12800/27915]\n",
      "loss:     nan  [19200/27915]\n",
      "loss:     nan  [25600/27915]\n",
      "Epoch 19\n",
      "-------------------------------\n",
      "loss:     nan  [    0/27915]\n",
      "loss:     nan  [ 6400/27915]\n",
      "loss:     nan  [12800/27915]\n",
      "loss:     nan  [19200/27915]\n",
      "loss:     nan  [25600/27915]\n",
      "Epoch 20\n",
      "-------------------------------\n",
      "loss:     nan  [    0/27915]\n",
      "loss:     nan  [ 6400/27915]\n",
      "loss:     nan  [12800/27915]\n",
      "loss:     nan  [19200/27915]\n",
      "loss:     nan  [25600/27915]\n",
      "Done!\n"
     ]
    }
   ],
   "source": [
    "for t in range(epochs):\n",
    "    print(f\"Epoch {t+1}\\n-------------------------------\")\n",
    "    train_loop(train_data, net, loss_fn, optimizer, batch_size)\n",
    "    test_loop()\n",
    "print(\"Done!\")"
   ],
   "metadata": {
    "collapsed": false,
    "pycharm": {
     "name": "#%%\n"
    }
   }
  },
  {
   "cell_type": "code",
   "execution_count": 8,
   "outputs": [
    {
     "data": {
      "text/plain": "(tensor([ 0.,  1.,  0.,  0.,  0.,  1.,  0.,  1.,  0.,  0.,  0.,  1.,  0.,  0.,\n          0.,  0.,  0.,  0.,  0.,  1.,  0.,  0.,  1.,  0.,  0.,  1.,  0.,  0.,\n          0.,  0.,  1.,  0.,  0.,  0.,  0.,  0.,  0.,  0.,  0.,  0., 14.]),\n tensor(500.))"
     },
     "execution_count": 8,
     "metadata": {},
     "output_type": "execute_result"
    }
   ],
   "source": [
    "train_data[0]"
   ],
   "metadata": {
    "collapsed": false,
    "pycharm": {
     "name": "#%%\n"
    }
   }
  },
  {
   "cell_type": "code",
   "execution_count": 8,
   "outputs": [],
   "source": [],
   "metadata": {
    "collapsed": false,
    "pycharm": {
     "name": "#%%\n"
    }
   }
  }
 ],
 "metadata": {
  "kernelspec": {
   "display_name": "Python 3",
   "language": "python",
   "name": "python3"
  },
  "language_info": {
   "codemirror_mode": {
    "name": "ipython",
    "version": 2
   },
   "file_extension": ".py",
   "mimetype": "text/x-python",
   "name": "python",
   "nbconvert_exporter": "python",
   "pygments_lexer": "ipython2",
   "version": "2.7.6"
  }
 },
 "nbformat": 4,
 "nbformat_minor": 0
}