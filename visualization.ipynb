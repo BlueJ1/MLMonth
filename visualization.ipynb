{
 "cells": [
  {
   "cell_type": "code",
   "execution_count": 7,
   "outputs": [],
   "source": [
    "import pandas as pd\n",
    "import torch\n",
    "import torch.nn as nn\n",
    "import torch.nn.functional as F\n",
    "import torch.optim as optim\n",
    "from torch.utils.data import Dataset"
   ],
   "metadata": {
    "collapsed": false,
    "pycharm": {
     "name": "#%%\n"
    }
   }
  },
  {
   "cell_type": "code",
   "execution_count": 2,
   "outputs": [],
   "source": [
    "# load data\n",
    "train = pd.read_csv(\"train.csv\")\n",
    "test = pd.read_csv(\"test.csv\")"
   ],
   "metadata": {
    "collapsed": false,
    "pycharm": {
     "name": "#%%\n"
    }
   }
  },
  {
   "cell_type": "code",
   "execution_count": 3,
   "outputs": [
    {
     "name": "stdout",
     "output_type": "stream",
     "text": [
      "<class 'pandas.core.frame.DataFrame'>\n",
      "RangeIndex: 27915 entries, 0 to 27914\n",
      "Data columns (total 34 columns):\n",
      " #   Column                    Non-Null Count  Dtype  \n",
      "---  ------                    --------------  -----  \n",
      " 0   id                        27915 non-null  int64  \n",
      " 1   title                     27915 non-null  object \n",
      " 2   city                      27915 non-null  object \n",
      " 3   postalCode                27915 non-null  object \n",
      " 4   latitude                  27915 non-null  float64\n",
      " 5   longitude                 27915 non-null  float64\n",
      " 6   areaSqm                   27915 non-null  int64  \n",
      " 7   firstSeenAt               27915 non-null  object \n",
      " 8   lastSeenAt                27915 non-null  object \n",
      " 9   isRoomActive              27852 non-null  object \n",
      " 10  rawAvailability           27915 non-null  object \n",
      " 11  postedAgo                 27909 non-null  object \n",
      " 12  descriptionNonTranslated  27804 non-null  object \n",
      " 13  descriptionTranslated     17775 non-null  object \n",
      " 14  rentDetail                20019 non-null  object \n",
      " 15  propertyType              27915 non-null  object \n",
      " 16  furnish                   27701 non-null  object \n",
      " 17  energyLabel               27852 non-null  object \n",
      " 18  gender                    27379 non-null  object \n",
      " 19  internet                  27852 non-null  object \n",
      " 20  roommates                 27379 non-null  object \n",
      " 21  shower                    27852 non-null  object \n",
      " 22  toilet                    27852 non-null  object \n",
      " 23  kitchen                   27852 non-null  object \n",
      " 24  living                    27852 non-null  object \n",
      " 25  pets                      27852 non-null  object \n",
      " 26  smokingInside             27852 non-null  object \n",
      " 27  matchAge                  27852 non-null  object \n",
      " 28  matchGender               27852 non-null  object \n",
      " 29  matchCapacity             27852 non-null  object \n",
      " 30  matchLanguages            27852 non-null  object \n",
      " 31  matchStatus               27852 non-null  object \n",
      " 32  coverImageUrl             27915 non-null  object \n",
      " 33  rent                      27915 non-null  int64  \n",
      "dtypes: float64(2), int64(3), object(29)\n",
      "memory usage: 7.2+ MB\n"
     ]
    }
   ],
   "source": [
    "train.info()\n",
    "# fully existent attributes: id, title, city, postalCode, latitude, longitude, areaSqm, firstSeenAt, lastSeenAt, rawAvailability, propertyType, coverImageUrl, rent\n",
    "# not full: isRoomActive (63 missing), postedAgo (6 missing), descriptionNonTranslated (111), descriptionTranslated (10.140), rentDetail (7896), furnish (214), energyLabel (63), gender (536), internet (63), roommates (536), shower (63), toilet (63), kitchen (63), living (63), pets (63), smokingInside (63), matchAge (63), matchGender (63), matchCapacity (63), matchLanguages (63), matchStatus (63)\n",
    "# omitted_columns = [\"id\", \"title\", \"city\", \"postalCode\", \"latitude\", \"longitude\", \"firstSeenAt\", \"lastSeenAt\", \"isRoomActive\", \"rawAvailability\", \"postedAgo\", \"descriptionNonTranslated\", \"descriptionTranslated\", \"\"]..."
   ],
   "metadata": {
    "collapsed": false,
    "pycharm": {
     "name": "#%%\n"
    }
   }
  },
  {
   "cell_type": "code",
   "execution_count": 4,
   "outputs": [
    {
     "data": {
      "text/plain": "   id                 title                 city postalCode   latitude  \\\n0   0  West-Varkenoordseweg            Rotterdam     3074HN  51.896601   \n1   3           Ruiterakker                Assen     9407BG  53.013494   \n2   8          Brusselseweg           Maastricht     6217GX  50.860841   \n3  10     Donkerslootstraat            Rotterdam     3074WL  51.893195   \n4  12    Vorselenburgstraat  Alphen aan den Rijn     2405XJ  52.122335   \n\n   longitude  areaSqm                       firstSeenAt  \\\n0   4.514993       14  2019-07-14 11:25:46.511000+00:00   \n1   6.561012       16  2019-07-14 11:25:46.988000+00:00   \n2   5.671673       16  2019-07-14 11:25:47.814000+00:00   \n3   4.516478       25  2019-07-14 11:25:48.140000+00:00   \n4   4.661434       10  2019-07-14 11:25:48.465000+00:00   \n\n                         lastSeenAt isRoomActive  ... living pets  \\\n0  2019-07-26 22:18:23.142000+00:00         True  ...   None   No   \n1  2019-07-18 22:00:31.174000+00:00        False  ...   None   No   \n2  2019-08-10 00:14:27.130000+00:00         True  ...   None   No   \n3  2019-07-16 06:05:32.183000+00:00        False  ...   None   No   \n4  2019-08-01 00:02:40.516000+00:00         True  ...   None   No   \n\n  smokingInside             matchAge    matchGender matchCapacity  \\\n0            No  16 years - 99 years  Not important      1 person   \n1           Yes  18 years - 32 years         Female      1 person   \n2            No  16 years - 40 years           Male     4 persons   \n3            No  21 years - 99 years  Not important     4 persons   \n4           Yes  22 years - 40 years  Not important      1 person   \n\n                                      matchLanguages  \\\n0                                      Not important   \n1                                      Not important   \n2                                      Dutch English   \n3  Dutch English Spanish French Italian German Po...   \n4                                      Dutch English   \n\n                                         matchStatus  \\\n0                                      Not important   \n1                           Student, Working student   \n2                                            Student   \n3  Student, Working student, Working, Looking for...   \n4                  Student, Working student, Working   \n\n                                       coverImageUrl rent  \n0  https://resources.kamernet.nl/image/913b4b03-5...  500  \n1  https://resources.kamernet.nl/image/84e95365-6...  290  \n2  https://resources.kamernet.nl/image/6e625591-d...  425  \n3  https://resources.kamernet.nl/image/ea3aea77-0...  600  \n4  https://resources.kamernet.nl/image/d0780298-b...  425  \n\n[5 rows x 34 columns]",
      "text/html": "<div>\n<style scoped>\n    .dataframe tbody tr th:only-of-type {\n        vertical-align: middle;\n    }\n\n    .dataframe tbody tr th {\n        vertical-align: top;\n    }\n\n    .dataframe thead th {\n        text-align: right;\n    }\n</style>\n<table border=\"1\" class=\"dataframe\">\n  <thead>\n    <tr style=\"text-align: right;\">\n      <th></th>\n      <th>id</th>\n      <th>title</th>\n      <th>city</th>\n      <th>postalCode</th>\n      <th>latitude</th>\n      <th>longitude</th>\n      <th>areaSqm</th>\n      <th>firstSeenAt</th>\n      <th>lastSeenAt</th>\n      <th>isRoomActive</th>\n      <th>...</th>\n      <th>living</th>\n      <th>pets</th>\n      <th>smokingInside</th>\n      <th>matchAge</th>\n      <th>matchGender</th>\n      <th>matchCapacity</th>\n      <th>matchLanguages</th>\n      <th>matchStatus</th>\n      <th>coverImageUrl</th>\n      <th>rent</th>\n    </tr>\n  </thead>\n  <tbody>\n    <tr>\n      <th>0</th>\n      <td>0</td>\n      <td>West-Varkenoordseweg</td>\n      <td>Rotterdam</td>\n      <td>3074HN</td>\n      <td>51.896601</td>\n      <td>4.514993</td>\n      <td>14</td>\n      <td>2019-07-14 11:25:46.511000+00:00</td>\n      <td>2019-07-26 22:18:23.142000+00:00</td>\n      <td>True</td>\n      <td>...</td>\n      <td>None</td>\n      <td>No</td>\n      <td>No</td>\n      <td>16 years - 99 years</td>\n      <td>Not important</td>\n      <td>1 person</td>\n      <td>Not important</td>\n      <td>Not important</td>\n      <td>https://resources.kamernet.nl/image/913b4b03-5...</td>\n      <td>500</td>\n    </tr>\n    <tr>\n      <th>1</th>\n      <td>3</td>\n      <td>Ruiterakker</td>\n      <td>Assen</td>\n      <td>9407BG</td>\n      <td>53.013494</td>\n      <td>6.561012</td>\n      <td>16</td>\n      <td>2019-07-14 11:25:46.988000+00:00</td>\n      <td>2019-07-18 22:00:31.174000+00:00</td>\n      <td>False</td>\n      <td>...</td>\n      <td>None</td>\n      <td>No</td>\n      <td>Yes</td>\n      <td>18 years - 32 years</td>\n      <td>Female</td>\n      <td>1 person</td>\n      <td>Not important</td>\n      <td>Student, Working student</td>\n      <td>https://resources.kamernet.nl/image/84e95365-6...</td>\n      <td>290</td>\n    </tr>\n    <tr>\n      <th>2</th>\n      <td>8</td>\n      <td>Brusselseweg</td>\n      <td>Maastricht</td>\n      <td>6217GX</td>\n      <td>50.860841</td>\n      <td>5.671673</td>\n      <td>16</td>\n      <td>2019-07-14 11:25:47.814000+00:00</td>\n      <td>2019-08-10 00:14:27.130000+00:00</td>\n      <td>True</td>\n      <td>...</td>\n      <td>None</td>\n      <td>No</td>\n      <td>No</td>\n      <td>16 years - 40 years</td>\n      <td>Male</td>\n      <td>4 persons</td>\n      <td>Dutch English</td>\n      <td>Student</td>\n      <td>https://resources.kamernet.nl/image/6e625591-d...</td>\n      <td>425</td>\n    </tr>\n    <tr>\n      <th>3</th>\n      <td>10</td>\n      <td>Donkerslootstraat</td>\n      <td>Rotterdam</td>\n      <td>3074WL</td>\n      <td>51.893195</td>\n      <td>4.516478</td>\n      <td>25</td>\n      <td>2019-07-14 11:25:48.140000+00:00</td>\n      <td>2019-07-16 06:05:32.183000+00:00</td>\n      <td>False</td>\n      <td>...</td>\n      <td>None</td>\n      <td>No</td>\n      <td>No</td>\n      <td>21 years - 99 years</td>\n      <td>Not important</td>\n      <td>4 persons</td>\n      <td>Dutch English Spanish French Italian German Po...</td>\n      <td>Student, Working student, Working, Looking for...</td>\n      <td>https://resources.kamernet.nl/image/ea3aea77-0...</td>\n      <td>600</td>\n    </tr>\n    <tr>\n      <th>4</th>\n      <td>12</td>\n      <td>Vorselenburgstraat</td>\n      <td>Alphen aan den Rijn</td>\n      <td>2405XJ</td>\n      <td>52.122335</td>\n      <td>4.661434</td>\n      <td>10</td>\n      <td>2019-07-14 11:25:48.465000+00:00</td>\n      <td>2019-08-01 00:02:40.516000+00:00</td>\n      <td>True</td>\n      <td>...</td>\n      <td>None</td>\n      <td>No</td>\n      <td>Yes</td>\n      <td>22 years - 40 years</td>\n      <td>Not important</td>\n      <td>1 person</td>\n      <td>Dutch English</td>\n      <td>Student, Working student, Working</td>\n      <td>https://resources.kamernet.nl/image/d0780298-b...</td>\n      <td>425</td>\n    </tr>\n  </tbody>\n</table>\n<p>5 rows × 34 columns</p>\n</div>"
     },
     "execution_count": 4,
     "metadata": {},
     "output_type": "execute_result"
    }
   ],
   "source": [
    "train.head()"
   ],
   "metadata": {
    "collapsed": false,
    "pycharm": {
     "name": "#%%\n"
    }
   }
  },
  {
   "cell_type": "code",
   "execution_count": 5,
   "outputs": [
    {
     "data": {
      "text/plain": "array([nan, 'Utilities incl.'], dtype=object)"
     },
     "execution_count": 5,
     "metadata": {},
     "output_type": "execute_result"
    }
   ],
   "source": [
    "train[\"rentDetail\"].unique()\n",
    "# this probably means NaN means utilities excl."
   ],
   "metadata": {
    "collapsed": false,
    "pycharm": {
     "name": "#%%\n"
    }
   }
  },
  {
   "cell_type": "code",
   "execution_count": 6,
   "outputs": [
    {
     "data": {
      "text/plain": "array(['Room', 'Studio', 'Apartment', 'Anti-squat', 'Student residence'],\n      dtype=object)"
     },
     "execution_count": 6,
     "metadata": {},
     "output_type": "execute_result"
    }
   ],
   "source": [
    "train[\"propertyType\"].unique()"
   ],
   "metadata": {
    "collapsed": false,
    "pycharm": {
     "name": "#%%\n"
    }
   }
  },
  {
   "cell_type": "code",
   "execution_count": 7,
   "outputs": [
    {
     "data": {
      "text/plain": "array(['Unfurnished', 'Furnished', 'Uncarpeted', nan], dtype=object)"
     },
     "execution_count": 7,
     "metadata": {},
     "output_type": "execute_result"
    }
   ],
   "source": [
    "train[\"furnish\"].unique()"
   ],
   "metadata": {
    "collapsed": false,
    "pycharm": {
     "name": "#%%\n"
    }
   }
  },
  {
   "cell_type": "code",
   "execution_count": 8,
   "outputs": [
    {
     "data": {
      "text/plain": "array(['16 years - 99 years', '18 years - 32 years',\n       '16 years - 40 years', '21 years - 99 years',\n       '22 years - 40 years', '18 years - 30 years',\n       '16 years - 30 years', '18 years - 40 years',\n       '16 years - 22 years', '16 years - 37 years',\n       '16 years - 25 years', '24 years - 35 years',\n       '16 years - 21 years', '18 years - 35 years',\n       '25 years - 60 years', '16 years - 49 years',\n       '26 years - 60 years', '19 years - 25 years',\n       '16 years - 24 years', '17 years - 30 years', nan,\n       '18 years - 28 years', '22 years - 99 years',\n       '24 years - 99 years', '18 years - 29 years',\n       '20 years - 40 years', '17 years - 22 years',\n       '18 years - 27 years', 'Not important - Not important',\n       '16 years - 28 years', '17 years - 35 years',\n       '16 years - 35 years', '20 years - 46 years',\n       '25 years - 99 years', '18 years - 36 years',\n       '30 years - 99 years', '16 years - 50 years',\n       '17 years - 20 years', '21 years - 40 years',\n       '18 years - 25 years', '23 years - 35 years',\n       '25 years - 41 years', '17 years - 25 years',\n       '16 years - 32 years', '28 years - 99 years',\n       '16 years - 45 years', '23 years - 71 years',\n       '18 years - 37 years', '18 years - 81 years',\n       '16 years - 33 years', '18 years - 99 years',\n       '17 years - 99 years', '21 years - 75 years',\n       '16 years - 47 years', '25 years - 33 years',\n       '18 years - 23 years', '17 years - 24 years',\n       '20 years - 26 years', '18 years - 72 years',\n       '17 years - 29 years', '24 years - 36 years',\n       '16 years - 41 years', '21 years - 30 years',\n       '19 years - 99 years', '19 years - 26 years',\n       '19 years - 28 years', '16 years - 20 years',\n       '17 years - 21 years', '17 years - 26 years',\n       '20 years - 30 years', '17 years - 89 years',\n       '21 years - 25 years', '21 years - 28 years',\n       '22 years - 35 years', '16 years - 29 years',\n       '19 years - 29 years', '27 years - 60 years',\n       '17 years - 50 years', '18 years - 26 years',\n       '24 years - 30 years', '20 years - 60 years',\n       '28 years - 40 years', '16 years - 54 years',\n       '22 years - 70 years', '20 years - 27 years',\n       '20 years - 99 years', '35 years - 40 years',\n       '21 years - 35 years', '27 years - 35 years',\n       '25 years - 56 years', '16 years - 27 years',\n       '21 years - 45 years', '16 years - 26 years',\n       '21 years - 70 years', '19 years - 40 years',\n       '19 years - 22 years', '21 years - 26 years',\n       '30 years - 65 years', '18 years - 80 years',\n       '18 years - 55 years', '20 years - 45 years',\n       '23 years - 40 years', '20 years - 31 years',\n       '20 years - 35 years', '18 years - 24 years',\n       '18 years - 33 years', '18 years - 49 years',\n       '23 years - 99 years', '17 years - 23 years',\n       '17 years - 28 years', '18 years - 34 years',\n       '25 years - 36 years', '24 years - 40 years',\n       '16 years - 38 years', '19 years - 30 years',\n       '20 years - 32 years', '26 years - 35 years',\n       '18 years - 48 years', '22 years - 50 years',\n       '18 years - 21 years', '24 years - 55 years',\n       '16 years - 31 years', '25 years - 29 years',\n       '20 years - 28 years', '30 years - 36 years',\n       '20 years - 55 years', '24 years - 42 years',\n       '16 years - 51 years', '16 years - 55 years',\n       '25 years - 75 years', '20 years - 41 years',\n       '16 years - 60 years', '24 years - 50 years',\n       '18 years - 22 years', '16 years - 58 years',\n       '22 years - 29 years', '24 years - 28 years',\n       '25 years - 40 years', '25 years - 70 years',\n       '25 years - 55 years', '17 years - 27 years',\n       '20 years - 34 years', '18 years - 50 years',\n       '19 years - 24 years', '19 years - 39 years',\n       '17 years - 60 years', '19 years - 35 years',\n       '17 years - 65 years', '23 years - 49 years',\n       '18 years - 60 years', '23 years - 60 years',\n       '25 years - 100 years', '18 years - 75 years',\n       '18 years - 31 years', '20 years - 50 years',\n       '25 years - 35 years', '18 years - 92 years',\n       '25 years - 71 years', '25 years - 34 years',\n       '16 years - 23 years', '24 years - 45 years',\n       '18 years - 46 years', '17 years - 40 years',\n       '22 years - 36 years', '18 years - 39 years',\n       '16 years - 66 years', '25 years - 45 years',\n       '16 years - 34 years', '23 years - 33 years',\n       '18 years - 45 years', '20 years - 33 years',\n       '23 years - 45 years', '18 years - 65 years',\n       '23 years - 38 years', '22 years - 30 years',\n       '20 years - 90 years', '18 years - 70 years',\n       '30 years - 50 years', '21 years - 33 years',\n       '20 years - 38 years', '16 years - 94 years',\n       '16 years - 19 years', '20 years - 25 years',\n       '26 years - 99 years', '25 years - 50 years',\n       '20 years - 53 years', '20 years - 70 years',\n       '21 years - 31 years', '16 years - 70 years',\n       '23 years - 34 years', '22 years - 45 years',\n       '20 years - 29 years', '19 years - 65 years',\n       '17 years - 37 years', '21 years - 29 years',\n       '30 years - 57 years', '19 years - 27 years',\n       '23 years - 30 years', '18 years - 42 years',\n       '18 years - 64 years', '18 years - 20 years',\n       '19 years - 38 years', '16 years - 18 years',\n       '22 years - 44 years', '16 years - 62 years',\n       '16 years - 69 years', '22 years - 33 years',\n       '21 years - 80 years', '17 years - 32 years',\n       '19 years - 60 years', '18 years - 61 years',\n       '20 years - 24 years', '19 years - 33 years',\n       '17 years - 19 years', '26 years - 40 years',\n       '22 years - 25 years', '20 years - 37 years',\n       '25 years - 44 years', '16 years - 97 years',\n       '17 years - 36 years', '21 years - 65 years',\n       '23 years - 50 years', '18 years - 69 years',\n       '18 years - 97 years', '20 years - 75 years',\n       '16 years - 44 years', '18 years - 90 years',\n       '24 years - 32 years', '22 years - 27 years',\n       '22 years - 42 years', '25 years - 38 years',\n       '25 years - 32 years', '28 years - 37 years',\n       '17 years - 77 years', '23 years - 42 years',\n       '25 years - 42 years', '20 years - 44 years',\n       '16 years - 90 years', '30 years - 40 years',\n       '19 years - 36 years', '21 years - 27 years',\n       '25 years - 80 years', '23 years - 31 years',\n       '19 years - 31 years', '19 years - 32 years',\n       '25 years - 48 years', '25 years - 61 years',\n       '16 years - 82 years', '28 years - 39 years',\n       '21 years - 60 years', '16 years - 59 years',\n       '23 years - 36 years', '22 years - 34 years',\n       '25 years - 37 years', '24 years - 39 years',\n       '18 years - Not important', '18 years - 41 years',\n       '28 years - 45 years', '21 years - 42 years',\n       '21 years - 39 years', '22 years - 38 years',\n       '24 years - 34 years', '23 years - 43 years',\n       '28 years - 50 years', '24 years - 37 years',\n       '20 years - 43 years', '30 years - 45 years',\n       '20 years - 23 years', '17 years - 33 years',\n       '16 years - 36 years', '19 years - 23 years',\n       '17 years - 70 years', '45 years - 99 years',\n       '23 years - 32 years', '17 years - 74 years',\n       '16 years - 42 years', '23 years - 65 years',\n       '21 years - 32 years', '21 years - 36 years',\n       '22 years - 26 years', '18 years - 51 years',\n       '19 years - 59 years', '28 years - 55 years',\n       '17 years - 17 years', '25 years - 65 years',\n       '99 years - 99 years', '17 years - 41 years',\n       '21 years - 55 years', '27 years - 99 years',\n       '16 years - 61 years', '17 years - 55 years',\n       '35 years - 70 years', '23 years - 70 years',\n       '22 years - 49 years', '16 years - 96 years',\n       '22 years - 80 years', '22 years - 31 years',\n       '16 years - 46 years', '23 years - 39 years',\n       '25 years - 30 years', '32 years - 65 years',\n       '24 years - 38 years', '25 years - 74 years',\n       '26 years - 36 years', '18 years - 91 years',\n       '22 years - 39 years', '21 years - 49 years',\n       '22 years - 28 years', '20 years - 36 years',\n       '16 years - 77 years', '18 years - 66 years',\n       '22 years - 55 years', '21 years - 37 years',\n       '18 years - 100 years', '27 years - 40 years',\n       '26 years - 37 years', '18 years - 38 years',\n       '25 years - 81 years', '17 years - 45 years',\n       '30 years - 55 years', '35 years - 60 years',\n       '25 years - 46 years', '24 years - 29 years',\n       '16 years - 85 years', '25 years - 66 years',\n       '20 years - 49 years', '26 years - 56 years',\n       '19 years - 21 years', '25 years - 52 years',\n       '31 years - 99 years', '25 years - 54 years',\n       '25 years - 63 years', '50 years - 99 years',\n       '18 years - 68 years', '21 years - 51 years',\n       '18 years - 44 years', '26 years - 31 years',\n       '24 years - 60 years', '19 years - 34 years',\n       '16 years - 39 years', '18 years - 47 years',\n       '26 years - 32 years', '16 years - 72 years',\n       '30 years - 80 years', '30 years - 70 years',\n       '23 years - 48 years', '17 years - 48 years',\n       '16 years - 48 years', '17 years - 64 years',\n       '19 years - 43 years', '20 years - 56 years',\n       '20 years - 66 years', '28 years - 79 years',\n       '18 years - 59 years', '23 years - 27 years',\n       '22 years - 32 years', '35 years - 50 years',\n       '26 years - 45 years', '18 years - 58 years',\n       '21 years - 50 years', '23 years - 26 years',\n       '20 years - 39 years', '35 years - 65 years',\n       '43 years - 99 years', '21 years - 38 years',\n       '26 years - 33 years', '47 years - 99 years',\n       '27 years - 37 years', '16 years - 67 years',\n       '40 years - 99 years', '20 years - 69 years',\n       '29 years - 44 years', '24 years - 47 years',\n       '21 years - 34 years', '27 years - 75 years',\n       '26 years - 55 years', '24 years - 44 years',\n       '20 years - 42 years', '19 years - 95 years',\n       '35 years - 75 years', '23 years - 37 years',\n       '20 years - 54 years', '39 years - 67 years',\n       '16 years - 65 years', '31 years - 56 years',\n       '20 years - 65 years', '19 years - 37 years',\n       '19 years - 55 years', '25 years - 59 years',\n       '25 years - 58 years', '29 years - 73 years',\n       '16 years - 75 years', '23 years - 28 years',\n       '29 years - 99 years', '24 years - 46 years',\n       '23 years - 80 years', '17 years - 56 years',\n       '16 years - 89 years', '27 years - 47 years',\n       '27 years - 39 years', '35 years - 63 years',\n       '18 years - 96 years', '27 years - 64 years',\n       '26 years - 42 years', '31 years - 40 years',\n       '28 years - 65 years', '24 years - 51 years',\n       '35 years - 59 years', '23 years - 29 years',\n       '17 years - 39 years', '25 years - 64 years',\n       '30 years - 60 years', '18 years - 56 years',\n       '26 years - 58 years', '22 years - 46 years',\n       '20 years - 48 years', '16 years - 98 years',\n       '27 years - 80 years', '29 years - 37 years',\n       '19 years - 41 years', '16 years - 56 years',\n       '22 years - 65 years', '35 years - 99 years',\n       '41 years - 61 years', '25 years - 39 years',\n       '21 years - 98 years', '20 years - 67 years',\n       '23 years - 98 years', '16 years - 80 years',\n       '20 years - 59 years', '23 years - 55 years',\n       '17 years - 59 years', '22 years - 71 years',\n       '31 years - 82 years', '25 years - 31 years',\n       '16 years - 53 years', '20 years - 80 years',\n       '22 years - 51 years', '26 years - 38 years',\n       '19 years - 54 years', '31 years - 80 years',\n       '24 years - 57 years', '16 years - 79 years',\n       '24 years - 33 years', '28 years - 56 years',\n       '19 years - 75 years', '28 years - 61 years',\n       '18 years - 52 years', '16 years - 52 years',\n       '17 years - 31 years', '30 years - 75 years',\n       '18 years - 19 years', '22 years - 60 years',\n       '20 years - 22 years', '22 years - 37 years',\n       '16 years - 71 years', '25 years - 25 years',\n       '21 years - 58 years', '31 years - 54 years',\n       '20 years - 58 years', '30 years - 37 years',\n       '32 years - 99 years', '28 years - 35 years',\n       '46 years - 99 years', '27 years - 50 years',\n       '28 years - 46 years', '16 years - 64 years',\n       '25 years - 57 years', '17 years - 49 years',\n       '30 years - 39 years', '21 years - 43 years',\n       '29 years - 48 years', '25 years - 69 years',\n       '21 years - 24 years', '25 years - 28 years',\n       '16 years - 88 years', '20 years - 89 years',\n       '16 years - 93 years', '27 years - 44 years',\n       '24 years - 31 years', '26 years - 34 years',\n       '27 years - 34 years', '19 years - 47 years',\n       '29 years - 35 years', '25 years - 49 years',\n       '27 years - 68 years', '28 years - 36 years',\n       '25 years - 85 years', '29 years - 38 years',\n       '26 years - 65 years', '28 years - 59 years',\n       '26 years - 43 years', '30 years - 35 years',\n       '28 years - 69 years', '29 years - 62 years',\n       '16 years - 57 years', '20 years - Not important',\n       '19 years - 45 years', '16 years - 87 years',\n       '37 years - 99 years', '21 years - 23 years',\n       '34 years - 99 years', '24 years - 43 years',\n       '17 years - 34 years', '18 years - 82 years',\n       '30 years - 47 years', '28 years - 60 years',\n       '25 years - 97 years', '18 years - 98 years',\n       '24 years - 49 years', '24 years - 75 years',\n       '21 years - 67 years', '23 years - 90 years',\n       '18 years - 67 years', '28 years - 31 years',\n       '19 years - 53 years', '18 years - 53 years',\n       '18 years - 43 years', '26 years - 66 years',\n       '19 years - 70 years', '18 years - 85 years',\n       '24 years - 71 years', '16 years - 68 years',\n       '23 years - 75 years', '29 years - 64 years',\n       '24 years - 61 years', '18 years - 88 years',\n       '21 years - 44 years', '22 years - 97 years',\n       '16 years - 43 years', '16 years - 100 years',\n       '28 years - 33 years', '26 years - 68 years',\n       '35 years - 78 years', '18 years - 62 years',\n       '27 years - 38 years', '16 years - 92 years',\n       '18 years - 87 years', '35 years - 80 years',\n       '22 years - 79 years', '28 years - 32 years',\n       '21 years - 54 years', '18 years - 78 years',\n       '29 years - 40 years', '21 years - 91 years',\n       '23 years - 46 years', '26 years - 46 years',\n       '27 years - 32 years', '25 years - 89 years',\n       '21 years - 59 years', '28 years - 80 years',\n       '18 years - 18 years', '49 years - 65 years',\n       '25 years - 27 years', '29 years - 36 years',\n       '27 years - 58 years', '24 years - 54 years',\n       '24 years - 65 years', '26 years - 48 years',\n       '19 years - 50 years', '27 years - 42 years',\n       '25 years - 53 years', '19 years - 49 years',\n       '35 years - 55 years', '28 years - 47 years',\n       '21 years - 88 years', '20 years - 86 years',\n       '23 years - 88 years', '26 years - 27 years',\n       '24 years - 84 years', '17 years - 82 years',\n       '25 years - 96 years', '24 years - 48 years',\n       '19 years - 85 years', '27 years - 55 years',\n       '16 years - 95 years', '30 years - 59 years',\n       '31 years - 60 years', '27 years - 87 years',\n       '23 years - 68 years', '23 years - 41 years',\n       '28 years - 42 years', '28 years - 41 years',\n       '27 years - 36 years', '28 years - 34 years',\n       '16 years - 74 years', '25 years - 47 years',\n       '25 years - 72 years', '22 years - 74 years',\n       '19 years - 48 years', '21 years - 48 years',\n       '18 years - 63 years', '17 years - 90 years',\n       '34 years - 60 years', '19 years - 61 years',\n       '44 years - 65 years', '27 years - 57 years',\n       '21 years - 77 years', '30 years - 48 years',\n       '25 years - 67 years', '22 years - 41 years',\n       '23 years - 83 years', '35 years - 69 years',\n       '29 years - 39 years', '23 years - 64 years',\n       '21 years - 92 years', '16 years - 91 years',\n       '40 years - 70 years', '18 years - 89 years',\n       '21 years - 64 years', '30 years - 94 years',\n       '29 years - 80 years', '19 years - 52 years',\n       '20 years - 62 years', '28 years - 44 years',\n       '20 years - 63 years', '26 years - 50 years',\n       '26 years - 62 years', '23 years - 66 years',\n       '36 years - 57 years', '16 years - 86 years',\n       '18 years - 95 years', '21 years - 69 years',\n       '18 years - 71 years', '20 years - 52 years',\n       '20 years - 47 years', '29 years - 60 years',\n       '17 years - 18 years', '27 years - 92 years',\n       '27 years - 45 years', '16 years - 81 years',\n       '24 years - 26 years', '24 years - 67 years',\n       '21 years - 66 years', '21 years - 61 years',\n       '44 years - 99 years', '31 years - 47 years',\n       '26 years - 79 years', '21 years - 41 years',\n       '19 years - 58 years', '22 years - 56 years',\n       '22 years - 68 years', '23 years - 52 years',\n       '25 years - 91 years', '20 years - 85 years',\n       '23 years - 47 years'], dtype=object)"
     },
     "execution_count": 8,
     "metadata": {},
     "output_type": "execute_result"
    }
   ],
   "source": [
    "train[\"matchAge\"].unique()"
   ],
   "metadata": {
    "collapsed": false,
    "pycharm": {
     "name": "#%%\n"
    }
   }
  },
  {
   "cell_type": "code",
   "execution_count": 9,
   "outputs": [],
   "source": [
    "# great features from informational value: areaSqm, rentDetail, propertyType, furnish, internet, roommates, shower, toilet, kitchen, living, pets, smokingInside, matchCapacity, matchStatus\n",
    "# not many values filled in for rentDetail, but it is still should be useful\n",
    "# good features: energyLabel, gender, matchGender, matchLanguages\n",
    "# decent features: city, postalCode, latitude, longitude, firstSeenAt, lastSeenAt, isRoomActive, rawAvailability, postedAgo, matchAge\n",
    "# to predict: rent"
   ],
   "metadata": {
    "collapsed": false,
    "pycharm": {
     "name": "#%%\n"
    }
   }
  },
  {
   "cell_type": "code",
   "execution_count": 10,
   "outputs": [],
   "source": [
    "from sklearn.preprocessing import LabelBinarizer\n",
    "\n",
    "df = pd.read_csv(\"train.csv\")\n",
    "lb = LabelBinarizer(sparse_output=True)\n",
    "\n",
    "df = df.join(pd.DataFrame.sparse.from_spmatrix(lb.fit_transform(df.pop('propertyType')), index=df.index, columns=lb.classes_))"
   ],
   "metadata": {
    "collapsed": false,
    "pycharm": {
     "name": "#%%\n"
    }
   }
  },
  {
   "cell_type": "code",
   "execution_count": 11,
   "outputs": [
    {
     "name": "stdout",
     "output_type": "stream",
     "text": [
      "<class 'pandas.core.frame.DataFrame'>\n",
      "RangeIndex: 27915 entries, 0 to 27914\n",
      "Data columns (total 38 columns):\n",
      " #   Column                    Non-Null Count  Dtype           \n",
      "---  ------                    --------------  -----           \n",
      " 0   id                        27915 non-null  int64           \n",
      " 1   title                     27915 non-null  object          \n",
      " 2   city                      27915 non-null  object          \n",
      " 3   postalCode                27915 non-null  object          \n",
      " 4   latitude                  27915 non-null  float64         \n",
      " 5   longitude                 27915 non-null  float64         \n",
      " 6   areaSqm                   27915 non-null  int64           \n",
      " 7   firstSeenAt               27915 non-null  object          \n",
      " 8   lastSeenAt                27915 non-null  object          \n",
      " 9   isRoomActive              27852 non-null  object          \n",
      " 10  rawAvailability           27915 non-null  object          \n",
      " 11  postedAgo                 27909 non-null  object          \n",
      " 12  descriptionNonTranslated  27804 non-null  object          \n",
      " 13  descriptionTranslated     17775 non-null  object          \n",
      " 14  rentDetail                20019 non-null  object          \n",
      " 15  furnish                   27701 non-null  object          \n",
      " 16  energyLabel               27852 non-null  object          \n",
      " 17  gender                    27379 non-null  object          \n",
      " 18  internet                  27852 non-null  object          \n",
      " 19  roommates                 27379 non-null  object          \n",
      " 20  shower                    27852 non-null  object          \n",
      " 21  toilet                    27852 non-null  object          \n",
      " 22  kitchen                   27852 non-null  object          \n",
      " 23  living                    27852 non-null  object          \n",
      " 24  pets                      27852 non-null  object          \n",
      " 25  smokingInside             27852 non-null  object          \n",
      " 26  matchAge                  27852 non-null  object          \n",
      " 27  matchGender               27852 non-null  object          \n",
      " 28  matchCapacity             27852 non-null  object          \n",
      " 29  matchLanguages            27852 non-null  object          \n",
      " 30  matchStatus               27852 non-null  object          \n",
      " 31  coverImageUrl             27915 non-null  object          \n",
      " 32  rent                      27915 non-null  int64           \n",
      " 33  Anti-squat                27915 non-null  Sparse[int64, 0]\n",
      " 34  Apartment                 27915 non-null  Sparse[int64, 0]\n",
      " 35  Room                      27915 non-null  Sparse[int64, 0]\n",
      " 36  Student residence         27915 non-null  Sparse[int64, 0]\n",
      " 37  Studio                    27915 non-null  Sparse[int64, 0]\n",
      "dtypes: Sparse[int64, 0](5), float64(2), int64(3), object(28)\n",
      "memory usage: 7.3+ MB\n"
     ]
    }
   ],
   "source": [
    "df.info()"
   ],
   "metadata": {
    "collapsed": false,
    "pycharm": {
     "name": "#%%\n"
    }
   }
  },
  {
   "cell_type": "code",
   "execution_count": 12,
   "outputs": [
    {
     "data": {
      "text/plain": "   id                 title                 city postalCode   latitude  \\\n0   0  West-Varkenoordseweg            Rotterdam     3074HN  51.896601   \n1   3           Ruiterakker                Assen     9407BG  53.013494   \n2   8          Brusselseweg           Maastricht     6217GX  50.860841   \n3  10     Donkerslootstraat            Rotterdam     3074WL  51.893195   \n4  12    Vorselenburgstraat  Alphen aan den Rijn     2405XJ  52.122335   \n\n   longitude  areaSqm                       firstSeenAt  \\\n0   4.514993       14  2019-07-14 11:25:46.511000+00:00   \n1   6.561012       16  2019-07-14 11:25:46.988000+00:00   \n2   5.671673       16  2019-07-14 11:25:47.814000+00:00   \n3   4.516478       25  2019-07-14 11:25:48.140000+00:00   \n4   4.661434       10  2019-07-14 11:25:48.465000+00:00   \n\n                         lastSeenAt isRoomActive  ... matchCapacity  \\\n0  2019-07-26 22:18:23.142000+00:00         True  ...      1 person   \n1  2019-07-18 22:00:31.174000+00:00        False  ...      1 person   \n2  2019-08-10 00:14:27.130000+00:00         True  ...     4 persons   \n3  2019-07-16 06:05:32.183000+00:00        False  ...     4 persons   \n4  2019-08-01 00:02:40.516000+00:00         True  ...      1 person   \n\n                                      matchLanguages  \\\n0                                      Not important   \n1                                      Not important   \n2                                      Dutch English   \n3  Dutch English Spanish French Italian German Po...   \n4                                      Dutch English   \n\n                                         matchStatus  \\\n0                                      Not important   \n1                           Student, Working student   \n2                                            Student   \n3  Student, Working student, Working, Looking for...   \n4                  Student, Working student, Working   \n\n                                       coverImageUrl rent Anti-squat  \\\n0  https://resources.kamernet.nl/image/913b4b03-5...  500          0   \n1  https://resources.kamernet.nl/image/84e95365-6...  290          0   \n2  https://resources.kamernet.nl/image/6e625591-d...  425          0   \n3  https://resources.kamernet.nl/image/ea3aea77-0...  600          0   \n4  https://resources.kamernet.nl/image/d0780298-b...  425          0   \n\n  Apartment Room Student residence Studio  \n0         0    1                 0      0  \n1         0    1                 0      0  \n2         0    1                 0      0  \n3         0    1                 0      0  \n4         0    1                 0      0  \n\n[5 rows x 38 columns]",
      "text/html": "<div>\n<style scoped>\n    .dataframe tbody tr th:only-of-type {\n        vertical-align: middle;\n    }\n\n    .dataframe tbody tr th {\n        vertical-align: top;\n    }\n\n    .dataframe thead th {\n        text-align: right;\n    }\n</style>\n<table border=\"1\" class=\"dataframe\">\n  <thead>\n    <tr style=\"text-align: right;\">\n      <th></th>\n      <th>id</th>\n      <th>title</th>\n      <th>city</th>\n      <th>postalCode</th>\n      <th>latitude</th>\n      <th>longitude</th>\n      <th>areaSqm</th>\n      <th>firstSeenAt</th>\n      <th>lastSeenAt</th>\n      <th>isRoomActive</th>\n      <th>...</th>\n      <th>matchCapacity</th>\n      <th>matchLanguages</th>\n      <th>matchStatus</th>\n      <th>coverImageUrl</th>\n      <th>rent</th>\n      <th>Anti-squat</th>\n      <th>Apartment</th>\n      <th>Room</th>\n      <th>Student residence</th>\n      <th>Studio</th>\n    </tr>\n  </thead>\n  <tbody>\n    <tr>\n      <th>0</th>\n      <td>0</td>\n      <td>West-Varkenoordseweg</td>\n      <td>Rotterdam</td>\n      <td>3074HN</td>\n      <td>51.896601</td>\n      <td>4.514993</td>\n      <td>14</td>\n      <td>2019-07-14 11:25:46.511000+00:00</td>\n      <td>2019-07-26 22:18:23.142000+00:00</td>\n      <td>True</td>\n      <td>...</td>\n      <td>1 person</td>\n      <td>Not important</td>\n      <td>Not important</td>\n      <td>https://resources.kamernet.nl/image/913b4b03-5...</td>\n      <td>500</td>\n      <td>0</td>\n      <td>0</td>\n      <td>1</td>\n      <td>0</td>\n      <td>0</td>\n    </tr>\n    <tr>\n      <th>1</th>\n      <td>3</td>\n      <td>Ruiterakker</td>\n      <td>Assen</td>\n      <td>9407BG</td>\n      <td>53.013494</td>\n      <td>6.561012</td>\n      <td>16</td>\n      <td>2019-07-14 11:25:46.988000+00:00</td>\n      <td>2019-07-18 22:00:31.174000+00:00</td>\n      <td>False</td>\n      <td>...</td>\n      <td>1 person</td>\n      <td>Not important</td>\n      <td>Student, Working student</td>\n      <td>https://resources.kamernet.nl/image/84e95365-6...</td>\n      <td>290</td>\n      <td>0</td>\n      <td>0</td>\n      <td>1</td>\n      <td>0</td>\n      <td>0</td>\n    </tr>\n    <tr>\n      <th>2</th>\n      <td>8</td>\n      <td>Brusselseweg</td>\n      <td>Maastricht</td>\n      <td>6217GX</td>\n      <td>50.860841</td>\n      <td>5.671673</td>\n      <td>16</td>\n      <td>2019-07-14 11:25:47.814000+00:00</td>\n      <td>2019-08-10 00:14:27.130000+00:00</td>\n      <td>True</td>\n      <td>...</td>\n      <td>4 persons</td>\n      <td>Dutch English</td>\n      <td>Student</td>\n      <td>https://resources.kamernet.nl/image/6e625591-d...</td>\n      <td>425</td>\n      <td>0</td>\n      <td>0</td>\n      <td>1</td>\n      <td>0</td>\n      <td>0</td>\n    </tr>\n    <tr>\n      <th>3</th>\n      <td>10</td>\n      <td>Donkerslootstraat</td>\n      <td>Rotterdam</td>\n      <td>3074WL</td>\n      <td>51.893195</td>\n      <td>4.516478</td>\n      <td>25</td>\n      <td>2019-07-14 11:25:48.140000+00:00</td>\n      <td>2019-07-16 06:05:32.183000+00:00</td>\n      <td>False</td>\n      <td>...</td>\n      <td>4 persons</td>\n      <td>Dutch English Spanish French Italian German Po...</td>\n      <td>Student, Working student, Working, Looking for...</td>\n      <td>https://resources.kamernet.nl/image/ea3aea77-0...</td>\n      <td>600</td>\n      <td>0</td>\n      <td>0</td>\n      <td>1</td>\n      <td>0</td>\n      <td>0</td>\n    </tr>\n    <tr>\n      <th>4</th>\n      <td>12</td>\n      <td>Vorselenburgstraat</td>\n      <td>Alphen aan den Rijn</td>\n      <td>2405XJ</td>\n      <td>52.122335</td>\n      <td>4.661434</td>\n      <td>10</td>\n      <td>2019-07-14 11:25:48.465000+00:00</td>\n      <td>2019-08-01 00:02:40.516000+00:00</td>\n      <td>True</td>\n      <td>...</td>\n      <td>1 person</td>\n      <td>Dutch English</td>\n      <td>Student, Working student, Working</td>\n      <td>https://resources.kamernet.nl/image/d0780298-b...</td>\n      <td>425</td>\n      <td>0</td>\n      <td>0</td>\n      <td>1</td>\n      <td>0</td>\n      <td>0</td>\n    </tr>\n  </tbody>\n</table>\n<p>5 rows × 38 columns</p>\n</div>"
     },
     "execution_count": 12,
     "metadata": {},
     "output_type": "execute_result"
    }
   ],
   "source": [
    "df.head()"
   ],
   "metadata": {
    "collapsed": false,
    "pycharm": {
     "name": "#%%\n"
    }
   }
  },
  {
   "cell_type": "code",
   "execution_count": 4,
   "outputs": [],
   "source": [
    "class FCGDataset(Dataset):\n",
    "    def __init__(self, file_dir):\n",
    "        data = pd.read_csv(file_dir)\n",
    "        used_columns = [\"areaSqm\", \"rentDetail\", \"propertyType\", \"furnish\", \"internet\", \"roommates\", \"shower\", \"toilet\", \"kitchen\", \"living\", \"pets\", \"smokingInside\", \"matchCapacity\", \"rent\"]\n",
    "        one_hot_columns = [\"rentDetail\", \"propertyType\", \"furnish\", \"internet\", \"roommates\", \"shower\", \"toilet\", \"kitchen\", \"living\", \"pets\", \"smokingInside\", \"matchCapacity\"]\n",
    "        data = data[used_columns]\n",
    "        ohe_df = pd.get_dummies(data[one_hot_columns], drop_first=True)\n",
    "        num_df = data.drop(one_hot_columns, axis=1)\n",
    "        data = pd.concat([ohe_df, num_df], axis=1)\n",
    "        self.features = data.drop(\"rent\", axis=1).values\n",
    "        self.target = torch.tensor(data[\"rent\"].values)\n",
    "\n",
    "    def __len__(self):\n",
    "        return len(self.target)\n",
    "\n",
    "    def __getitem__(self, idx):\n",
    "        return self.features[idx], self.target[idx]"
   ],
   "metadata": {
    "collapsed": false,
    "pycharm": {
     "name": "#%%\n"
    }
   }
  },
  {
   "cell_type": "code",
   "execution_count": 5,
   "outputs": [],
   "source": [
    "# neural network class\n",
    "class Net(nn.Module):\n",
    "    def __init__(self):\n",
    "        super(Net, self).__init__()\n",
    "\n",
    "        # First fully connected layer\n",
    "        # input features: areaSqm (1) + rentDetail (2) + propertyType (5) + furnish (4) + internet (3) + roommates (11) + shower (4) + toilet (4) + kitchen (4) + living (4) + pets (4) + smokingInside (4) + matchCapacity (8) (+ matchStatus (4)) = 58\n",
    "        self.fc1 = nn.Linear(41, 512)\n",
    "        # self.fc2 = nn.Linear(512, 512)\n",
    "        # self.dropout1 = nn.Dropout()\n",
    "        self.fc3 = nn.Linear(512, 32)\n",
    "        self.fc2 = nn.Linear(32, 1)\n",
    "\n",
    "    def forward(self, x):\n",
    "        x = self.fc1(x)\n",
    "        x = F.relu(x)\n",
    "\n",
    "        # x = self.fc2(x)\n",
    "        # x = F.relu(x)\n",
    "\n",
    "        # x = self.dropout1(x)\n",
    "\n",
    "        x = self.fc3(x)\n",
    "        x = F.relu(x)\n",
    "\n",
    "        # x = self.dropout2(x)\n",
    "        x = self.fc4(x)\n",
    "\n",
    "        output = x\n",
    "        return output"
   ],
   "metadata": {
    "collapsed": false,
    "pycharm": {
     "name": "#%%\n"
    }
   }
  },
  {
   "cell_type": "code",
   "execution_count": 6,
   "outputs": [],
   "source": [
    "def train_loop(dataset, model, loss_fn, optimizer, batch_size):\n",
    "    size = len(dataset)\n",
    "    for batch in range(size // batch_size):\n",
    "        X, y = dataset[batch * batch_size : (batch + 1) * batch_size]\n",
    "        # Compute prediction and loss\n",
    "        pred = model(X)\n",
    "        loss = loss_fn(pred, y)\n",
    "\n",
    "        # Backpropagation\n",
    "        optimizer.zero_grad()\n",
    "        loss.backward()\n",
    "        optimizer.step()\n",
    "\n",
    "        if batch % 100 == 0:\n",
    "            loss, current = loss.item(), batch * len(X)\n",
    "            print(f\"loss: {loss:>7f}  [{current:>5d}/{size:>5d}]\")"
   ],
   "metadata": {
    "collapsed": false,
    "pycharm": {
     "name": "#%%\n"
    }
   }
  },
  {
   "cell_type": "code",
   "execution_count": 7,
   "outputs": [],
   "source": [
    "learning_rate = 1e-3\n",
    "batch_size = 2\n",
    "epochs = 2\n",
    "loss_fn = torch.nn.MSELoss(reduction='sum')\n",
    "net = Net()\n",
    "optimizer = optim.AdamW(net.parameters(), lr=learning_rate)"
   ],
   "metadata": {
    "collapsed": false,
    "pycharm": {
     "name": "#%%\n"
    }
   }
  },
  {
   "cell_type": "code",
   "execution_count": 1,
   "outputs": [
    {
     "ename": "NameError",
     "evalue": "name 'FCGDataset' is not defined",
     "output_type": "error",
     "traceback": [
      "\u001B[0;31m---------------------------------------------------------------------------\u001B[0m",
      "\u001B[0;31mNameError\u001B[0m                                 Traceback (most recent call last)",
      "Input \u001B[0;32mIn [1]\u001B[0m, in \u001B[0;36m<cell line: 1>\u001B[0;34m()\u001B[0m\n\u001B[0;32m----> 1\u001B[0m train_data \u001B[38;5;241m=\u001B[39m \u001B[43mFCGDataset\u001B[49m(\u001B[38;5;124m\"\u001B[39m\u001B[38;5;124mtrain.csv\u001B[39m\u001B[38;5;124m\"\u001B[39m)\n\u001B[1;32m      2\u001B[0m \u001B[38;5;28mprint\u001B[39m(\u001B[38;5;124m\"\u001B[39m\u001B[38;5;124mDone!\u001B[39m\u001B[38;5;124m\"\u001B[39m)\n\u001B[1;32m      3\u001B[0m \u001B[38;5;28;01mfor\u001B[39;00m t \u001B[38;5;129;01min\u001B[39;00m \u001B[38;5;28mrange\u001B[39m(epochs):\n",
      "\u001B[0;31mNameError\u001B[0m: name 'FCGDataset' is not defined"
     ]
    }
   ],
   "source": [
    "train_data = FCGDataset(\"train.csv\")\n",
    "print(\"Done!\")\n",
    "for t in range(epochs):\n",
    "    print(f\"Epoch {t+1}\\n-------------------------------\")\n",
    "    train_loop(train_data, net, loss_fn, optimizer, batch_size)\n",
    "print(\"Done!\")"
   ],
   "metadata": {
    "collapsed": false,
    "pycharm": {
     "name": "#%%\n"
    }
   }
  },
  {
   "cell_type": "code",
   "execution_count": 5,
   "outputs": [],
   "source": [
    "import pandas as pd\n",
    "import torch\n",
    "import numpy as np\n",
    "file_dir = \"train.csv\"\n",
    "data = pd.read_csv(file_dir)\n",
    "used_columns = [\"areaSqm\", \"rentDetail\", \"propertyType\", \"furnish\", \"internet\", \"roommates\", \"shower\", \"toilet\", \"kitchen\", \"living\", \"pets\", \"smokingInside\", \"matchCapacity\", \"rent\"]\n",
    "one_hot_columns = [\"rentDetail\", \"propertyType\", \"furnish\", \"internet\", \"roommates\", \"shower\", \"toilet\", \"kitchen\", \"living\", \"pets\", \"smokingInside\", \"matchCapacity\"]\n",
    "data = data[used_columns]\n",
    "ohe_df = pd.get_dummies(data[one_hot_columns], drop_first=True)\n",
    "num_df = data.drop(one_hot_columns, axis=1)\n",
    "data = pd.concat([ohe_df, num_df], axis=1)"
   ],
   "metadata": {
    "collapsed": false,
    "pycharm": {
     "name": "#%%\n"
    }
   }
  },
  {
   "cell_type": "code",
   "execution_count": 9,
   "outputs": [
    {
     "data": {
      "text/plain": "array([[ 0,  1,  0, ...,  0,  0, 14],\n       [ 0,  1,  0, ...,  0,  0, 16],\n       [ 0,  1,  0, ...,  0,  0, 16],\n       ...,\n       [ 0,  1,  0, ...,  1,  0, 28],\n       [ 0,  1,  0, ...,  0,  0, 35],\n       [ 0,  0,  0, ...,  0,  0, 25]])"
     },
     "execution_count": 9,
     "metadata": {},
     "output_type": "execute_result"
    }
   ],
   "source": [
    "dropped = data.drop(\"rent\", axis=1)\n",
    "values = dropped.values\n",
    "values"
   ],
   "metadata": {
    "collapsed": false,
    "pycharm": {
     "name": "#%%\n"
    }
   }
  },
  {
   "cell_type": "code",
   "execution_count": 12,
   "outputs": [],
   "source": [
    "# features = torch.tensor(data.drop(\"rent\", axis=1).values)"
   ],
   "metadata": {
    "collapsed": false,
    "pycharm": {
     "name": "#%%\n"
    }
   }
  },
  {
   "cell_type": "code",
   "execution_count": 10,
   "outputs": [],
   "source": [
    "targets = torch.tensor(data[\"rent\"].values)"
   ],
   "metadata": {
    "collapsed": false,
    "pycharm": {
     "name": "#%%\n"
    }
   }
  },
  {
   "cell_type": "code",
   "execution_count": 1,
   "outputs": [
    {
     "ename": "NameError",
     "evalue": "name 'targets' is not defined",
     "output_type": "error",
     "traceback": [
      "\u001B[0;31m---------------------------------------------------------------------------\u001B[0m",
      "\u001B[0;31mNameError\u001B[0m                                 Traceback (most recent call last)",
      "Input \u001B[0;32mIn [1]\u001B[0m, in \u001B[0;36m<cell line: 1>\u001B[0;34m()\u001B[0m\n\u001B[0;32m----> 1\u001B[0m \u001B[43mtargets\u001B[49m\n",
      "\u001B[0;31mNameError\u001B[0m: name 'targets' is not defined"
     ]
    }
   ],
   "source": [
    "targets"
   ],
   "metadata": {
    "collapsed": false,
    "pycharm": {
     "name": "#%%\n"
    }
   }
  },
  {
   "cell_type": "code",
   "execution_count": 6,
   "outputs": [
    {
     "data": {
      "text/plain": "tensor([[ 0,  1,  0,  ...,  0,  0, 14],\n        [ 0,  1,  0,  ...,  0,  0, 16],\n        [ 0,  1,  0,  ...,  0,  0, 16],\n        ...,\n        [ 0,  1,  0,  ...,  1,  0, 28],\n        [ 0,  1,  0,  ...,  0,  0, 35],\n        [ 0,  0,  0,  ...,  0,  0, 25]])"
     },
     "execution_count": 6,
     "metadata": {},
     "output_type": "execute_result"
    }
   ],
   "source": [
    "torch.from_numpy(values)"
   ],
   "metadata": {
    "collapsed": false,
    "pycharm": {
     "name": "#%%\n"
    }
   }
  },
  {
   "cell_type": "code",
   "execution_count": 4,
   "outputs": [
    {
     "data": {
      "text/plain": "numpy.ndarray"
     },
     "execution_count": 4,
     "metadata": {},
     "output_type": "execute_result"
    }
   ],
   "source": [
    "type(values)"
   ],
   "metadata": {
    "collapsed": false,
    "pycharm": {
     "name": "#%%\n"
    }
   }
  },
  {
   "cell_type": "code",
   "execution_count": 12,
   "outputs": [],
   "source": [
    "values_first_40 = np.interp(values[:40], (0, 1), (0.0001, 0.9999))\n",
    "values_last = np.interp(values[40], (np.min(values[40]), np.max(values[40])), (0.0001, 0.9999))"
   ],
   "metadata": {
    "collapsed": false,
    "pycharm": {
     "name": "#%%\n"
    }
   }
  },
  {
   "cell_type": "code",
   "execution_count": 12,
   "outputs": [],
   "source": [
    "value_tensor = torch.Tensor(values)"
   ],
   "metadata": {
    "collapsed": false,
    "pycharm": {
     "name": "#%%\n"
    }
   }
  },
  {
   "cell_type": "code",
   "execution_count": 13,
   "outputs": [
    {
     "data": {
      "text/plain": "array([[1.000e-04, 9.999e-01, 1.000e-04, ..., 1.000e-04, 1.000e-04,\n        9.999e-01],\n       [1.000e-04, 9.999e-01, 1.000e-04, ..., 1.000e-04, 1.000e-04,\n        9.999e-01],\n       [1.000e-04, 9.999e-01, 1.000e-04, ..., 1.000e-04, 1.000e-04,\n        9.999e-01],\n       ...,\n       [1.000e-04, 9.999e-01, 1.000e-04, ..., 1.000e-04, 1.000e-04,\n        9.999e-01],\n       [1.000e-04, 9.999e-01, 1.000e-04, ..., 1.000e-04, 1.000e-04,\n        9.999e-01],\n       [1.000e-04, 9.999e-01, 1.000e-04, ..., 1.000e-04, 1.000e-04,\n        9.999e-01]])"
     },
     "execution_count": 13,
     "metadata": {},
     "output_type": "execute_result"
    }
   ],
   "source": [
    "values_first_40"
   ],
   "metadata": {
    "collapsed": false,
    "pycharm": {
     "name": "#%%\n"
    }
   }
  },
  {
   "cell_type": "code",
   "execution_count": 14,
   "outputs": [
    {
     "data": {
      "text/plain": "array([1.34306667e-02, 1.00000000e-04, 1.00000000e-04, 1.00000000e-04,\n       1.00000000e-04, 1.00000000e-04, 1.00000000e-04, 1.34306667e-02,\n       1.00000000e-04, 1.00000000e-04, 1.00000000e-04, 1.00000000e-04,\n       1.00000000e-04, 1.00000000e-04, 1.00000000e-04, 1.00000000e-04,\n       1.00000000e-04, 1.00000000e-04, 1.00000000e-04, 1.34306667e-02,\n       1.00000000e-04, 1.34306667e-02, 1.00000000e-04, 1.00000000e-04,\n       1.00000000e-04, 1.34306667e-02, 1.00000000e-04, 1.34306667e-02,\n       1.00000000e-04, 1.00000000e-04, 1.34306667e-02, 1.00000000e-04,\n       1.00000000e-04, 1.34306667e-02, 1.34306667e-02, 1.00000000e-04,\n       1.00000000e-04, 1.00000000e-04, 1.00000000e-04, 1.00000000e-04,\n       9.99900000e-01])"
     },
     "execution_count": 14,
     "metadata": {},
     "output_type": "execute_result"
    }
   ],
   "source": [
    "values_last"
   ],
   "metadata": {
    "collapsed": false,
    "pycharm": {
     "name": "#%%\n"
    }
   }
  },
  {
   "cell_type": "code",
   "execution_count": null,
   "outputs": [],
   "source": [],
   "metadata": {
    "collapsed": false,
    "pycharm": {
     "name": "#%%\n"
    }
   }
  }
 ],
 "metadata": {
  "kernelspec": {
   "display_name": "Python 3",
   "language": "python",
   "name": "python3"
  },
  "language_info": {
   "codemirror_mode": {
    "name": "ipython",
    "version": 2
   },
   "file_extension": ".py",
   "mimetype": "text/x-python",
   "name": "python",
   "nbconvert_exporter": "python",
   "pygments_lexer": "ipython2",
   "version": "2.7.6"
  }
 },
 "nbformat": 4,
 "nbformat_minor": 0
}